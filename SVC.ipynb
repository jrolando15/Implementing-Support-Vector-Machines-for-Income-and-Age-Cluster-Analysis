{
 "cells": [
  {
   "cell_type": "markdown",
   "metadata": {},
   "source": [
    "# Support Vector Machines"
   ]
  },
  {
   "cell_type": "markdown",
   "metadata": {},
   "source": [
    "Let's create the same fake income / age clustered data that we used for our K-Means clustering example:"
   ]
  },
  {
   "cell_type": "code",
   "execution_count": null,
   "metadata": {},
   "outputs": [],
   "source": [
    "import numpy as np\n",
    "\n",
    "#Create fake income/age clusters for N people in k clusters\n",
    "def createClusteredData(N, k):\n",
    "    np.random.seed(1234)\n",
    "    pointsPerCluster = float(N)/k\n",
    "    X = []\n",
    "    y = []\n",
    "    for i in range (k):\n",
    "        incomeCentroid = np.random.uniform(20000.0, 200000.0)\n",
    "        ageCentroid = np.random.uniform(20.0, 70.0)\n",
    "        for j in range(int(pointsPerCluster)):\n",
    "            X.append([np.random.normal(incomeCentroid, 10000.0), np.random.normal(ageCentroid, 2.0)])\n",
    "            y.append(i)\n",
    "    X = np.array(X)\n",
    "    y = np.array(y)\n",
    "    return X, y"
   ]
  },
  {
   "cell_type": "code",
   "execution_count": null,
   "metadata": {},
   "outputs": [],
   "source": [
    "%matplotlib inline\n",
    "from pylab import *\n",
    "from sklearn.preprocessing import MinMaxScaler\n",
    "\n",
    "(X, y) = createClusteredData(100, 5)\n",
    "\n",
    "plt.figure(figsize=(8, 6))\n",
    "plt.scatter(X[:,0], X[:,1], c=y.astype(float))\n",
    "plt.show()\n",
    "\n",
    "scaling = MinMaxScaler(feature_range=(-1,1)).fit(X)\n",
    "X = scaling.transform(X)\n",
    "\n",
    "plt.figure(figsize=(8, 6))\n",
    "plt.scatter(X[:,0], X[:,1], c=y.astype(float))\n",
    "plt.show()"
   ]
  },
  {
   "cell_type": "markdown",
   "metadata": {},
   "source": [
    "Now we'll use linear SVC to partition our graph into clusters:"
   ]
  },
  {
   "cell_type": "code",
   "execution_count": null,
   "metadata": {},
   "outputs": [],
   "source": [
    "from sklearn import svm, datasets\n",
    "\n",
    "C = 1.0\n",
    "svc = svm.SVC(kernel='linear', C=C).fit(X, y)"
   ]
  },
  {
   "cell_type": "markdown",
   "metadata": {},
   "source": [
    "By setting up a dense mesh of points in the grid and classifying all of them, we can render the regions of each cluster as distinct colors:"
   ]
  },
  {
   "cell_type": "code",
   "execution_count": null,
   "metadata": {},
   "outputs": [],
   "source": [
    "def plotPredictions(clf):\n",
    "    # Create a dense grid of points to sample \n",
    "    xx, yy = np.meshgrid(np.arange(-1, 1, .001),\n",
    "                     np.arange(-1, 1, .001))\n",
    "    \n",
    "    # Convert to Numpy arrays\n",
    "    npx = xx.ravel()\n",
    "    npy = yy.ravel()\n",
    "    \n",
    "    # Convert to a list of 2D (income, age) points\n",
    "    samplePoints = np.c_[npx, npy]\n",
    "    \n",
    "    # Generate predicted labels (cluster numbers) for each point\n",
    "    Z = clf.predict(samplePoints)\n",
    "\n",
    "    plt.figure(figsize=(8, 6))\n",
    "    Z = Z.reshape(xx.shape) #Reshape results to match xx dimension\n",
    "    plt.contourf(xx, yy, Z, cmap=plt.cm.Paired, alpha=0.8) # Draw the contour\n",
    "    plt.scatter(X[:,0], X[:,1], c=y.astype(float)) # Draw the points\n",
    "    plt.show()\n",
    "    \n",
    "plotPredictions(svc)"
   ]
  },
  {
   "cell_type": "markdown",
   "metadata": {},
   "source": [
    "Or just use predict for a given point:"
   ]
  },
  {
   "cell_type": "code",
   "execution_count": null,
   "metadata": {},
   "outputs": [],
   "source": [
    "print(svc.predict(scaling.transform([[200000, 40]])))"
   ]
  },
  {
   "cell_type": "code",
   "execution_count": null,
   "metadata": {},
   "outputs": [],
   "source": [
    "print(svc.predict(scaling.transform([[50000, 65]])))"
   ]
  },
  {
   "cell_type": "markdown",
   "metadata": {},
   "source": [
    "## Activity"
   ]
  },
  {
   "cell_type": "markdown",
   "metadata": {},
   "source": [
    "\"Linear\" is one of many kernels scikit-learn supports on SVC. Look up the documentation for scikit-learn online to find out what the other possible kernel options are. Do any of them work well for this data set?"
   ]
  },
  {
   "cell_type": "raw",
   "metadata": {},
   "source": []
  }
 ],
 "metadata": {
  "kernelspec": {
   "display_name": "Python 3 (ipykernel)",
   "language": "python",
   "name": "python3"
  },
  "language_info": {
   "codemirror_mode": {
    "name": "ipython",
    "version": 3
   },
   "file_extension": ".py",
   "mimetype": "text/x-python",
   "name": "python",
   "nbconvert_exporter": "python",
   "pygments_lexer": "ipython3",
   "version": "3.10.9"
  }
 },
 "nbformat": 4,
 "nbformat_minor": 1
}
